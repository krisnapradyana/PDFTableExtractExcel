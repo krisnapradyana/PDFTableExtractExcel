{
 "cells": [
  {
   "cell_type": "code",
   "execution_count": 90,
   "id": "a99beade-2549-4440-b7e4-5234f1d5bf2c",
   "metadata": {},
   "outputs": [
    {
     "data": {
      "text/plain": [
       "114"
      ]
     },
     "execution_count": 90,
     "metadata": {},
     "output_type": "execute_result"
    }
   ],
   "source": [
    "import os\n",
    "from tabula import read_pdf\n",
    "import pandas as pd\n",
    "\n",
    "# Read the PDF as a data frame\n",
    "dfs = read_pdf(r'D:\\rekening-koran.pdf', lattice=True, pages='all', multiple_tables=True)\n",
    "len(dfs)"
   ]
  },
  {
   "cell_type": "code",
   "execution_count": 119,
   "id": "4d53feff-c6ec-4dbe-8a18-f06bbb2dbbb3",
   "metadata": {},
   "outputs": [],
   "source": [
    "df_list = []\n",
    "\n",
    "for x in range(len(dfs)):\n",
    "    if x % 2 != 0:\n",
    "        df_list.append(dfs[x])"
   ]
  },
  {
   "cell_type": "code",
   "execution_count": 120,
   "id": "a04ea240-fbba-45a6-8cef-7a86b63d3815",
   "metadata": {
    "tags": []
   },
   "outputs": [
    {
     "data": {
      "text/plain": [
       "list"
      ]
     },
     "execution_count": 120,
     "metadata": {},
     "output_type": "execute_result"
    }
   ],
   "source": [
    "type(df_list)"
   ]
  },
  {
   "cell_type": "code",
   "execution_count": 132,
   "id": "1cf68d0e-e586-4e58-b0f1-60a6d2da23e9",
   "metadata": {
    "tags": []
   },
   "outputs": [],
   "source": [
    "df_all = pd.concat(df_list, ignore_index=True, axis=0)"
   ]
  },
  {
   "cell_type": "code",
   "execution_count": 138,
   "id": "17da1628-0665-4986-bd65-38ef97ad36fc",
   "metadata": {
    "tags": []
   },
   "outputs": [
    {
     "data": {
      "text/html": [
       "<div>\n",
       "<style scoped>\n",
       "    .dataframe tbody tr th:only-of-type {\n",
       "        vertical-align: middle;\n",
       "    }\n",
       "\n",
       "    .dataframe tbody tr th {\n",
       "        vertical-align: top;\n",
       "    }\n",
       "\n",
       "    .dataframe thead th {\n",
       "        text-align: right;\n",
       "    }\n",
       "</style>\n",
       "<table border=\"1\" class=\"dataframe\">\n",
       "  <thead>\n",
       "    <tr style=\"text-align: right;\">\n",
       "      <th></th>\n",
       "      <th>Date &amp; Time</th>\n",
       "      <th>Value Date</th>\n",
       "      <th>Description</th>\n",
       "      <th>Reference No.</th>\n",
       "      <th>Debit</th>\n",
       "      <th>Credit</th>\n",
       "      <th>Balance</th>\n",
       "    </tr>\n",
       "  </thead>\n",
       "  <tbody>\n",
       "    <tr>\n",
       "      <th>0</th>\n",
       "      <td>01/05/2022 03:59:03</td>\n",
       "      <td>01/05/2022</td>\n",
       "      <td>MCM InhouseTrf  KE SRI HANDAYANI ROSITA DEWI</td>\n",
       "      <td>NaN</td>\n",
       "      <td>400,000.00</td>\n",
       "      <td>0.0</td>\n",
       "      <td>400,417,300.34</td>\n",
       "    </tr>\n",
       "    <tr>\n",
       "      <th>1</th>\n",
       "      <td>01/05/2022 03:59:41</td>\n",
       "      <td>01/05/2022</td>\n",
       "      <td>MCM InhouseTrf  KE ROBERT ANTHONY BAMBANG</td>\n",
       "      <td>NaN</td>\n",
       "      <td>400,000.00</td>\n",
       "      <td>0.0</td>\n",
       "      <td>400,017,300.34</td>\n",
       "    </tr>\n",
       "    <tr>\n",
       "      <th>2</th>\n",
       "      <td>01/05/2022 03:59:59</td>\n",
       "      <td>01/05/2022</td>\n",
       "      <td>MCM InhouseTrf  KE MOCHAMAT ADIL</td>\n",
       "      <td>NaN</td>\n",
       "      <td>200,000.00</td>\n",
       "      <td>0.0</td>\n",
       "      <td>399,817,300.34</td>\n",
       "    </tr>\n",
       "    <tr>\n",
       "      <th>3</th>\n",
       "      <td>01/05/2022 04:00:27</td>\n",
       "      <td>01/05/2022</td>\n",
       "      <td>MCM InhouseTrf  KE JOKO LENGKUNG KUSUMO</td>\n",
       "      <td>NaN</td>\n",
       "      <td>200,000.00</td>\n",
       "      <td>0.0</td>\n",
       "      <td>399,617,300.34</td>\n",
       "    </tr>\n",
       "    <tr>\n",
       "      <th>4</th>\n",
       "      <td>01/05/2022 04:00:48</td>\n",
       "      <td>01/05/2022</td>\n",
       "      <td>MCM InhouseTrf  KE SRI HANDAYANI ROSITA DEWI</td>\n",
       "      <td>NaN</td>\n",
       "      <td>200,000.00</td>\n",
       "      <td>0.0</td>\n",
       "      <td>399,417,300.34</td>\n",
       "    </tr>\n",
       "    <tr>\n",
       "      <th>...</th>\n",
       "      <td>...</td>\n",
       "      <td>...</td>\n",
       "      <td>...</td>\n",
       "      <td>...</td>\n",
       "      <td>...</td>\n",
       "      <td>...</td>\n",
       "      <td>...</td>\n",
       "    </tr>\n",
       "    <tr>\n",
       "      <th>946</th>\n",
       "      <td>31/05/2022 18:02:43</td>\n",
       "      <td>31/05/2022</td>\n",
       "      <td>MCM InhouseTrf  KE SRI HANDAYANI ROSITA DEWI</td>\n",
       "      <td>NaN</td>\n",
       "      <td>6,000,000.00</td>\n",
       "      <td>0.00</td>\n",
       "      <td>518,058,694.34</td>\n",
       "    </tr>\n",
       "    <tr>\n",
       "      <th>947</th>\n",
       "      <td>31/05/2022 23:59:</td>\n",
       "      <td>31/05/2022</td>\n",
       "      <td>NaN</td>\n",
       "      <td>NaN</td>\n",
       "      <td>25,000.00</td>\n",
       "      <td>0.00</td>\n",
       "      <td>518,033,694.34</td>\n",
       "    </tr>\n",
       "    <tr>\n",
       "      <th>948</th>\n",
       "      <td>00</td>\n",
       "      <td>NaN</td>\n",
       "      <td>Biaya Adm</td>\n",
       "      <td>NaN</td>\n",
       "      <td>NaN</td>\n",
       "      <td>NaN</td>\n",
       "      <td>NaN</td>\n",
       "    </tr>\n",
       "    <tr>\n",
       "      <th>949</th>\n",
       "      <td>31/05/2022 23:59:00</td>\n",
       "      <td>31/05/2022</td>\n",
       "      <td>Bunga</td>\n",
       "      <td>NaN</td>\n",
       "      <td>0.00</td>\n",
       "      <td>386,610.29</td>\n",
       "      <td>518,420,304.63</td>\n",
       "    </tr>\n",
       "    <tr>\n",
       "      <th>950</th>\n",
       "      <td>31/05/2022 23:59:00</td>\n",
       "      <td>31/05/2022</td>\n",
       "      <td>Pajak</td>\n",
       "      <td>NaN</td>\n",
       "      <td>77,322.06</td>\n",
       "      <td>0.00</td>\n",
       "      <td>518,342,982.57</td>\n",
       "    </tr>\n",
       "  </tbody>\n",
       "</table>\n",
       "<p>951 rows × 7 columns</p>\n",
       "</div>"
      ],
      "text/plain": [
       "             Date & Time  Value Date  \\\n",
       "0    01/05/2022 03:59:03  01/05/2022   \n",
       "1    01/05/2022 03:59:41  01/05/2022   \n",
       "2    01/05/2022 03:59:59  01/05/2022   \n",
       "3    01/05/2022 04:00:27  01/05/2022   \n",
       "4    01/05/2022 04:00:48  01/05/2022   \n",
       "..                   ...         ...   \n",
       "946  31/05/2022 18:02:43  31/05/2022   \n",
       "947    31/05/2022 23:59:  31/05/2022   \n",
       "948                   00         NaN   \n",
       "949  31/05/2022 23:59:00  31/05/2022   \n",
       "950  31/05/2022 23:59:00  31/05/2022   \n",
       "\n",
       "                                      Description Reference No.         Debit  \\\n",
       "0    MCM InhouseTrf  KE SRI HANDAYANI ROSITA DEWI           NaN    400,000.00   \n",
       "1       MCM InhouseTrf  KE ROBERT ANTHONY BAMBANG           NaN    400,000.00   \n",
       "2                MCM InhouseTrf  KE MOCHAMAT ADIL           NaN    200,000.00   \n",
       "3         MCM InhouseTrf  KE JOKO LENGKUNG KUSUMO           NaN    200,000.00   \n",
       "4    MCM InhouseTrf  KE SRI HANDAYANI ROSITA DEWI           NaN    200,000.00   \n",
       "..                                            ...           ...           ...   \n",
       "946  MCM InhouseTrf  KE SRI HANDAYANI ROSITA DEWI           NaN  6,000,000.00   \n",
       "947                                           NaN           NaN     25,000.00   \n",
       "948                                     Biaya Adm           NaN           NaN   \n",
       "949                                         Bunga           NaN          0.00   \n",
       "950                                         Pajak           NaN     77,322.06   \n",
       "\n",
       "         Credit         Balance  \n",
       "0           0.0  400,417,300.34  \n",
       "1           0.0  400,017,300.34  \n",
       "2           0.0  399,817,300.34  \n",
       "3           0.0  399,617,300.34  \n",
       "4           0.0  399,417,300.34  \n",
       "..          ...             ...  \n",
       "946        0.00  518,058,694.34  \n",
       "947        0.00  518,033,694.34  \n",
       "948         NaN             NaN  \n",
       "949  386,610.29  518,420,304.63  \n",
       "950        0.00  518,342,982.57  \n",
       "\n",
       "[951 rows x 7 columns]"
      ]
     },
     "execution_count": 138,
     "metadata": {},
     "output_type": "execute_result"
    }
   ],
   "source": [
    "df_all.replace(to_replace=r'\\r', value=' ', regex=True, inplace=True)\n",
    "df_all"
   ]
  },
  {
   "cell_type": "code",
   "execution_count": null,
   "id": "683bc2b9-1cd6-40dd-9831-ea6e0111cd54",
   "metadata": {},
   "outputs": [],
   "source": []
  }
 ],
 "metadata": {
  "kernelspec": {
   "display_name": "Python 3 (ipykernel)",
   "language": "python",
   "name": "python3"
  },
  "language_info": {
   "codemirror_mode": {
    "name": "ipython",
    "version": 3
   },
   "file_extension": ".py",
   "mimetype": "text/x-python",
   "name": "python",
   "nbconvert_exporter": "python",
   "pygments_lexer": "ipython3",
   "version": "3.11.5"
  }
 },
 "nbformat": 4,
 "nbformat_minor": 5
}
